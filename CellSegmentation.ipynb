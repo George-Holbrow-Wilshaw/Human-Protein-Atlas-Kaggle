{
 "cells": [
  {
   "cell_type": "code",
   "execution_count": 182,
   "metadata": {},
   "outputs": [],
   "source": [
    "import pandas as pd\n",
    "import numpy as np\n",
    "from tqdm.autonotebook import tqdm;\n",
    "import imageio\n",
    "import hpacellseg.cellsegmentator as cellsegmentator\n",
    "from hpacellseg.utils import label_cell, label_nuclei\n",
    "from itertools import zip_longest"
   ]
  },
  {
   "cell_type": "code",
   "execution_count": 177,
   "metadata": {},
   "outputs": [],
   "source": [
    "TEST_DF = pd.read_csv('data/test.csv')"
   ]
  },
  {
   "cell_type": "code",
   "execution_count": 178,
   "metadata": {},
   "outputs": [],
   "source": [
    "def build_image_names(image_id: str) -> list:\n",
    "    # mt is the mitchondria\n",
    "    mt = f'pcl.hpa/data/HPA2020/JPEGImages/{image_id}_red.png'    \n",
    "    # er is the endoplasmic reticulum\n",
    "    er = f'pcl.hpa/data/HPA2020/JPEGImages/{image_id}_yellow.png'    \n",
    "    # nu is the nuclei\n",
    "    nu = f'pcl.hpa/data/HPA2020/JPEGImages/{image_id}_blue.png'    \n",
    "    return mt, er, nu\n",
    "\n",
    "NUC_MODEL = 'data/dpn_unet_nuclei_v1.pth'\n",
    "CELL_MODEL = 'data/dpn_unet_cell_3ch_v1.pth'\n",
    "\n",
    "segmentator = cellsegmentator.CellSegmentator(\n",
    "    NUC_MODEL,\n",
    "    CELL_MODEL,\n",
    "    scale_factor=0.25,\n",
    "    device='cpu',\n",
    "    padding=True,\n",
    "    multi_channel_model=True\n",
    ")"
   ]
  },
  {
   "cell_type": "code",
   "execution_count": null,
   "metadata": {},
   "outputs": [],
   "source": [
    "for i in range(8, len(TEST_DF), 8):\n",
    "    \n",
    "    RED = []\n",
    "    YEL = []\n",
    "    BLU = []\n",
    "\n",
    "    for im in list(TEST_DF['ID'])[i - 8: i]:\n",
    "        mt, er, nu = build_image_names(im)\n",
    "        RED.append(mt)\n",
    "        YEL.append(er)\n",
    "        BLU.append(nu)\n",
    "\n",
    "    batch = [RED, YEL, BLU]\n",
    "    \n",
    "    cell_segmentations = segmentator.pred_cells(batch)\n",
    "    nuc_segmentations = segmentator.pred_nuclei(batch[2])\n",
    "\n",
    "\n",
    "    n = len(cell_segmentations)\n",
    "\n",
    "    for i, n, c in zip(range(n), nuc_segmentations, cell_segmentations):\n",
    "        fn = RED[i].split('/')[-1].split('_')[0]\n",
    "        nuc_mask, cell_mask = label_cell(n, c)\n",
    "        np.savez(f'masks/hpa_nuclei_mask_test/{fn}', nuc_mask)\n",
    "        np.savez(f'masks/hpa_cell_mask_test/{fn}', cell_mask)"
   ]
  },
  {
   "cell_type": "code",
   "execution_count": null,
   "metadata": {},
   "outputs": [],
   "source": []
  },
  {
   "cell_type": "code",
   "execution_count": null,
   "metadata": {},
   "outputs": [],
   "source": []
  },
  {
   "cell_type": "code",
   "execution_count": null,
   "metadata": {},
   "outputs": [],
   "source": []
  },
  {
   "cell_type": "code",
   "execution_count": null,
   "metadata": {},
   "outputs": [],
   "source": []
  }
 ],
 "metadata": {
  "kernelspec": {
   "display_name": "Python 3",
   "language": "python",
   "name": "python3"
  },
  "language_info": {
   "codemirror_mode": {
    "name": "ipython",
    "version": 3
   },
   "file_extension": ".py",
   "mimetype": "text/x-python",
   "name": "python",
   "nbconvert_exporter": "python",
   "pygments_lexer": "ipython3",
   "version": "3.8.5"
  }
 },
 "nbformat": 4,
 "nbformat_minor": 4
}
